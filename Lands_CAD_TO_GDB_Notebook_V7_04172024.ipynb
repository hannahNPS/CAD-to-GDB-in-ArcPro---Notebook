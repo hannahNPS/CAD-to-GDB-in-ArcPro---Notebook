{
 "cells": [
  {
   "cell_type": "code",
   "execution_count": 33,
   "metadata": {},
   "outputs": [
    {
     "name": "stdout",
     "output_type": "stream",
     "text": [
      "NAD_1983_StatePlane_Michigan_North_FIPS_2111_Feet_Intl\n",
      "NAD 1983 SPCS Michigan North (Intl Feet)\n",
      "NAD_1983_StatePlane_Michigan_Central_FIPS_2112_Feet_Intl\n",
      "NAD 1983 SPCS Michigan Central (Intl Feet)\n",
      "NAD_1983_StatePlane_Michigan_South_FIPS_2113_Feet_Intl\n",
      "NAD 1983 SPCS Michigan South (Intl Feet)\n",
      "NAD_1983_HARN_StatePlane_Michigan_North_FIPS_2111\n",
      "NAD 1983 HARN SPCS Michigan North\n",
      "NAD_1983_HARN_StatePlane_Michigan_Central_FIPS_2112\n",
      "NAD 1983 HARN SPCS Michigan Central\n",
      "NAD_1983_HARN_StatePlane_Michigan_South_FIPS_2113\n",
      "NAD 1983 HARN SPCS Michigan South\n",
      "NAD_1983_HARN_StatePlane_Michigan_North_FIPS_2111_Feet_Intl\n",
      "NAD 1983 HARN SPCS Michigan North (Intl Feet)\n",
      "NAD_1983_HARN_StatePlane_Michigan_Central_FIPS_2112_Feet_Intl\n",
      "NAD 1983 HARN SPCS Michigan Central (Intl Feet)\n",
      "NAD_1983_HARN_StatePlane_Michigan_South_FIPS_2113_Feet_Intl\n",
      "NAD 1983 HARN SPCS Michigan South (Intl Feet)\n",
      "NAD_1983_Michigan_GeoRef_Meters\n",
      "NAD 1983 Michigan GeoRef (Meters)\n",
      "NAD_1983_HARN_Michigan_GeoRef_Meters\n",
      "NAD 1983 HARN Michigan GeoRef (Meters)\n",
      "NAD_1983_NSRS2007_StatePlane_Michigan_Central_FIPS_2112\n",
      "NAD 1983 NSRS2007 SPCS Michigan Central\n",
      "NAD_1983_NSRS2007_StatePlane_Michigan_Central_FIPS_2112_Ft_Intl\n",
      "NAD 1983 NSRS2007 SPCS Michigan Central (Intl Feet)\n",
      "NAD_1983_NSRS2007_StatePlane_Michigan_North_FIPS_2111\n",
      "NAD 1983 NSRS2007 SPCS Michigan North\n",
      "NAD_1983_NSRS2007_StatePlane_Michigan_North_FIPS_2111_Ft_Intl\n",
      "NAD 1983 NSRS2007 SPCS Michigan North (Intl Feet)\n",
      "NAD_1983_NSRS2007_Michigan_GeoRef_Meters\n",
      "NAD 1983 NSRS2007 Michigan GeoRef (meters)\n",
      "NAD_1983_NSRS2007_StatePlane_Michigan_South_FIPS_2113\n",
      "NAD 1983 NSRS2007 SPCS Michigan South\n",
      "NAD_1983_NSRS2007_StatePlane_Michigan_South_FIPS_2113_Ft_Intl\n",
      "NAD 1983 NSRS2007 SPCS Michigan South (Intl Feet)\n",
      "NAD_1927_StatePlane_Michigan_North_FIPS_2111\n",
      "NAD 1927 SPCS Zone Michigan North\n",
      "NAD_1927_StatePlane_Michigan_Central_FIPS_2112\n",
      "NAD 1927 SPCS Zone Michigan Central\n",
      "NAD_1927_StatePlane_Michigan_South_FIPS_2113\n",
      "NAD 1927 SPCS Zone Michigan South\n",
      "NAD_1983_StatePlane_Michigan_North_FIPS_2111\n",
      "NAD 1983 SPCS Zone Michigan North\n",
      "NAD_1983_StatePlane_Michigan_Central_FIPS_2112\n",
      "NAD 1983 SPCS Zone Michigan Central\n",
      "NAD_1983_StatePlane_Michigan_South_FIPS_2113\n",
      "NAD 1983 SPCS Zone Michigan South\n",
      "NAD_1927_Michigan_GeoRef_Feet_US\n",
      "NAD 1927 Michigan GeoRef (US Survey Feet)\n",
      "NAD_1983_Michigan_GeoRef_Feet_US\n",
      "NAD 1983 Michigan GeoRef (US Survey Feet)\n",
      "NAD_1927_Michigan_GeoRef_Meters\n",
      "NAD 1927 Michigan GeoRef (Meters)\n",
      "NAD_1983_StatePlane_Michigan_North_FIPS_2111_Feet\n",
      "NAD 1983 SPCS Michigan North (Feet)\n",
      "NAD_1983_StatePlane_Michigan_Central_FIPS_2112_Feet\n",
      "NAD 1983 SPCS Michigan Central (Feet)\n",
      "NAD_1983_StatePlane_Michigan_South_FIPS_2113_Feet\n",
      "NAD 1983 SPCS Michigan South (Feet)\n",
      "NAD_1983_CORS96_StatePlane_Michigan_North_FIPS_2111\n",
      "NAD 1983 (CORS96) SPCS Michigan North\n",
      "NAD_1983_CORS96_StatePlane_Michigan_Central_FIPS_2112\n",
      "NAD 1983 (CORS96) SPCS Michigan Central\n",
      "NAD_1983_CORS96_StatePlane_Michigan_South_FIPS_2113\n",
      "NAD 1983 (CORS96) SPCS Michigan South\n",
      "NAD_1983_CORS96_StatePlane_Michigan_North_FIPS_2111_Ft_Intl\n",
      "NAD 1983 (CORS96) SPCS Michigan North (Intl Feet)\n",
      "NAD_1983_CORS96_StatePlane_Michigan_Central_FIPS_2112_Ft_Intl\n",
      "NAD 1983 (CORS96) SPCS Michigan Central (Intl Feet)\n",
      "NAD_1983_CORS96_StatePlane_Michigan_South_FIPS_2113_Ft_Intl\n",
      "NAD 1983 (CORS96) SPCS Michigan South (Intl Feet)\n"
     ]
    }
   ],
   "source": [
    "#TASK - Find the text for available Projections based on the State in which you are working currently\n",
    "\n",
    "#ACTION REQUIRED - Set your State Variable here:\n",
    "State = \"Michigan\"\n",
    "\n",
    "import requests\n",
    "from bs4 import BeautifulSoup\n",
    "\n",
    "# Define the URL of the webpage\n",
    "url = \"https://resources.arcgis.com/en/help/coordinate-systems/mobilepcs.html\"\n",
    "\n",
    "# Send a GET request to the URL\n",
    "response = requests.get(url)\n",
    "\n",
    "# Parse the HTML content\n",
    "soup = BeautifulSoup(response.content, \"html.parser\")\n",
    "\n",
    "# Find all the text on the webpage\n",
    "all_text = soup.get_text()\n",
    "\n",
    "# Split the text into lines\n",
    "lines = all_text.split(\"\\n\")\n",
    "\n",
    "# Print lines containing \"Maryland\"\n",
    "for line in lines:\n",
    "    if State in line:\n",
    "        print(line.strip())"
   ]
  },
  {
   "cell_type": "code",
   "execution_count": 2,
   "metadata": {},
   "outputs": [],
   "source": [
    "# ACTION REQUIRED: From the Projections listed after running cell above,\n",
    "    # Copy and paste the appropriate Projection and set equal to the following variable\n",
    "    \n",
    "spatial_reference = 'NAD_1983_StatePlane_Missouri_East_FIPS_2401'\n"
   ]
  },
  {
   "cell_type": "code",
   "execution_count": 3,
   "metadata": {},
   "outputs": [],
   "source": [
    "# STEPS YOU NEED TO TAKE PRIOR TO STARTING THE NOTEBOOK:\n",
    "## 1. SAVE THE \"TEST.gdb\" IN A FOLDER THAT WILL BE IN YOUR ARCPRO PROJECT CATALOGUE \n",
    "## 2. SAVE THIS NOTEBOOK IN YOUR ARCPRO PROJECT FOLDER\n",
    "\n",
    "# IN THIS CELL YOU WILL ENTER YOUR VARIABLES THAT WILL THEN BE USED THROUGHOUT THE NOTEBOOK\n",
    "\n",
    "#ENTER THE PARENT FILE PATHWAY WHERE YOUR DWG's ARE LOCATED\n",
    "    # THIS CAN BE MULTIPLE FOLDER LEVELS ABOVE THE ULTIMATE DWGs\n",
    "dirname = r'C:\\Users\\hdean\\Desktop\\DWG_Python_Project\\Sample_carto_folders'\n",
    "\n",
    "# SET THE ENVIRONMENT BY ENTERING THE PATHWAY TO THE \"TEST.gdb\"\n",
    "    # NOTE - CHANGE NAME OF GDB AS NEEDED - THIS WILL BE WHERE THE CAD DATA IS IMPORTED INTO\n",
    "arcpy.env.workspace = r\"C:\\Users\\hdean\\Desktop\\DWG_Python_Project\\TEST.gdb\"\n",
    "\n",
    "#SET THE GDB WHERE THE CAD WILL BE PLACED\n",
    "out_gdb_path = r\"C:\\Users\\hdean\\Desktop\\DWG_Python_Project\\TEST.gdb\"\n",
    "\n",
    "# IF YOU ALREADY KNOW THE DWG YOU NEED TO IMPORT INTO GDB, ENTER THE FILE PATH FOR THAT DWG HERE\n",
    "    # IF YOU DON'T, USE THE NEXT CELL TO PRINT OUT A LIST OF DWGs IN YOUR PARENT PATHWAY\n",
    "input_cad_dataset = r\"C:\\Users\\hdean\\Desktop\\STGE_2020.dwg\"  "
   ]
  },
  {
   "cell_type": "code",
   "execution_count": 5,
   "metadata": {},
   "outputs": [
    {
     "name": "stdout",
     "output_type": "stream",
     "text": [
      "Projection defined successfully.\n"
     ]
    }
   ],
   "source": [
    "# TASK - TO ENSURE THAT YOUR DWG IS ASSIGNED THE PROJECTION DEFINED ABOVE; RUN THIS CELL\n",
    "# REFERENCET - DEFINE PROJECTION TOOL: https://pro.arcgis.com/en/pro-app/latest/tool-reference/data-management/define-projection.htm\n",
    "import arcpy\n",
    "\n",
    "# Create a SpatialReference object for the desired projection\n",
    "spatial_ref = arcpy.SpatialReference(spatial_reference)\n",
    "\n",
    "try:\n",
    "    # Define the projection for the DWG file\n",
    "    arcpy.management.DefineProjection(input_cad_dataset, spatial_ref)\n",
    "    print(\"Projection defined successfully.\")\n",
    "\n",
    "except arcpy.ExecuteError:\n",
    "    # Print any error messages\n",
    "    print(arcpy.GetMessages())\n",
    "except Exception as ex:\n",
    "    print(ex)"
   ]
  },
  {
   "cell_type": "code",
   "execution_count": 2,
   "metadata": {},
   "outputs": [
    {
     "name": "stdout",
     "output_type": "stream",
     "text": [
      "C:\\Users\\hdean\\Desktop\\DWG_Python_Project\\Sample_carto_folders\\STGE_2020.dwg\n",
      "C:\\Users\\hdean\\Desktop\\DWG_Python_Project\\Sample_carto_folders\\GOIS\\goissm.dwg\n",
      "C:\\Users\\hdean\\Desktop\\DWG_Python_Project\\Sample_carto_folders\\GOIS\\dwg\\GOIS.dwg\n",
      "C:\\Users\\hdean\\Desktop\\DWG_Python_Project\\Sample_carto_folders\\GOIS\\dwg\\GOISsm.dwg\n",
      "C:\\Users\\hdean\\Desktop\\DWG_Python_Project\\Sample_carto_folders\\GOIS\\dwg\\from Nicks files\\GOIS_2002 BdyMap.dwg\n",
      "C:\\Users\\hdean\\Desktop\\DWG_Python_Project\\Sample_carto_folders\\GOIS\\dwg\\from Nicks files\\GOVERNORSISLAND.dwg\n",
      "C:\\Users\\hdean\\Desktop\\DWG_Python_Project\\Sample_carto_folders\\GOIS\\survey drawings\\2002 boundary.dwg\n",
      "C:\\Users\\hdean\\Desktop\\DWG_Python_Project\\Sample_carto_folders\\GOIS\\survey drawings\\GOVERNORSISLAND.dwg\n",
      "C:\\Users\\hdean\\Desktop\\DWG_Python_Project\\Sample_carto_folders\\GOIS\\survey drawings\\segment 01.dwg\n",
      "C:\\Users\\hdean\\Desktop\\DWG_Python_Project\\Sample_carto_folders\\GRSM\\OLD\\dwg\\GRSM-BDY.dwg\n",
      "C:\\Users\\hdean\\Desktop\\DWG_Python_Project\\Sample_carto_folders\\GRSM\\OLD\\GIS\\GRSM BDY_fromGIL\\GRSM BDY.dwg\n",
      "C:\\Users\\hdean\\Desktop\\DWG_Python_Project\\Sample_carto_folders\\GRSM\\OLD\\WorkingFile\\GRSM BDY.dwg\n",
      "C:\\Users\\hdean\\Desktop\\DWG_Python_Project\\Sample_carto_folders\\GWMP\\gwmpseg16_22_117021.dwg\n",
      "C:\\Users\\hdean\\Desktop\\DWG_Python_Project\\Sample_carto_folders\\GWMP\\dwg\\ACAD-gwmpseg3_10_v2004.dwg\n",
      "C:\\Users\\hdean\\Desktop\\DWG_Python_Project\\Sample_carto_folders\\GWMP\\dwg\\clbaseg.dwg\n",
      "C:\\Users\\hdean\\Desktop\\DWG_Python_Project\\Sample_carto_folders\\GWMP\\dwg\\fowaseg.dwg\n",
      "C:\\Users\\hdean\\Desktop\\DWG_Python_Project\\Sample_carto_folders\\GWMP\\dwg\\gwmpseg11_15.dwg\n",
      "C:\\Users\\hdean\\Desktop\\DWG_Python_Project\\Sample_carto_folders\\GWMP\\dwg\\gwmpseg16_22.dwg\n",
      "C:\\Users\\hdean\\Desktop\\DWG_Python_Project\\Sample_carto_folders\\GWMP\\dwg\\gwmpseg1_2.dwg\n",
      "C:\\Users\\hdean\\Desktop\\DWG_Python_Project\\Sample_carto_folders\\GWMP\\dwg\\gwmpseg3_10.dwg\n",
      "C:\\Users\\hdean\\Desktop\\DWG_Python_Project\\Sample_carto_folders\\GWMP\\dwg\\gwmpseg3_10_v2009.dwg\n",
      "C:\\Users\\hdean\\Desktop\\DWG_Python_Project\\Sample_carto_folders\\GWMP\\dwg\\gwmpsegIndex.dwg\n",
      "C:\\Users\\hdean\\Desktop\\DWG_Python_Project\\Sample_carto_folders\\HONO\\hono-E.dwg\n",
      "C:\\Users\\hdean\\Desktop\\DWG_Python_Project\\Sample_carto_folders\\HONO\\dwg\\hono-E.dwg\n",
      "C:\\Users\\hdean\\Desktop\\DWG_Python_Project\\Sample_carto_folders\\HONO\\dwg\\hono.dwg\n"
     ]
    }
   ],
   "source": [
    "# IF YOU DON'T KNOW THE DWG YOU ARE LOOKING FOR AND NEED A LIST, USE THIS CELL\n",
    "# CODE Reference: https://www.geeksforgeeks.org/list-all-files-of-certain-type-in-a-directory-using-python/\n",
    "# THIS CELL WILL SEARCH THE DIRECTORY PATHWAY YOU ENTERED IN THE FIRST CELL\n",
    "\n",
    "#importing packages\n",
    "import glob, os\n",
    "\n",
    "# Set up list to store list of dwg folders through which to loop\n",
    "dwgfiles = []\n",
    "\n",
    "# traverse whole directory\n",
    "for root, dirs, files in os.walk(dirname):\n",
    "    # select file name\n",
    "    for file in files:\n",
    "        # check the extension of files\n",
    "        if file.endswith('.dwg'):\n",
    "            # print whole path of files\n",
    "            dwgfiles = os.path.join(root, file)\n",
    "            print (dwgfiles)"
   ]
  },
  {
   "cell_type": "code",
   "execution_count": 3,
   "metadata": {},
   "outputs": [
    {
     "data": {
      "text/html": [
       "<div class='gpresult'><h2>Messages</h2><div id='messages' data-messages='[\"Start Time: Thursday, February 29, 2024 3:48:55 PM\",\"Succeeded at Thursday, February 29, 2024 3:49:35 PM (Elapsed Time: 40.32 seconds)\"]' data-show='true'><div id = 'default' /></div></div>"
      ],
      "text/plain": [
       "<Result 'C:\\\\Users\\\\hdean\\\\Desktop\\\\DWG_Python_Project\\\\TEST.gdb\\\\analysisresults'>"
      ]
     },
     "execution_count": 3,
     "metadata": {},
     "output_type": "execute_result"
    }
   ],
   "source": [
    "# THIS CELL PULLS YOUR CAD DATA INTO A THE GDB \n",
    "\n",
    "#create the feature dataset name for your dwg import\n",
    "out_dataset_name = \"analysisresults\"\n",
    "reference_scale = \"1000\"\n",
    "\n",
    "# Run CreateFeaturedataset\n",
    "arcpy.conversion.CADToGeodatabase(input_cad_dataset, out_gdb_path,\n",
    "                                  out_dataset_name, reference_scale, spatial_ref)"
   ]
  },
  {
   "cell_type": "code",
   "execution_count": 4,
   "metadata": {},
   "outputs": [
    {
     "data": {
      "text/html": [
       "<div class='gpresult'><h2>Messages</h2><div id='messages' data-messages='[\"Start Time: Thursday, February 29, 2024 3:49:46 PM\",\"Succeeded at Thursday, February 29, 2024 3:50:04 PM (Elapsed Time: 18.08 seconds)\"]' data-show='true'><div id = 'default' /></div></div>"
      ],
      "text/plain": [
       "<Result 'C:\\\\Users\\\\hdean\\\\Desktop\\\\DWG_Python_Project\\\\TEST.gdb\\\\analysisresults\\\\TRACT'>"
      ]
     },
     "execution_count": 4,
     "metadata": {},
     "output_type": "execute_result"
    }
   ],
   "source": [
    "#TASK: Create TRACTS Polyline Layer by selecting from PolylineLayer\n",
    "\n",
    "arcpy.env.overwriteOutput = False\n",
    "\n",
    "# Import system modules\n",
    "import arcpy\n",
    "\n",
    "\n",
    "# Set the workspace\n",
    "arcpy.env.workspace = 'analysisresults'\n",
    "where_clause = \"{} = '{}'\".format(arcpy.AddFieldDelimiters(\"Polyline\", \"Layer\"), \"TRACT\")\n",
    "\n",
    "\n",
    "# Select out TRACT features from Polyline\n",
    "arcpy.management.SelectLayerByAttribute('Polyline', 'NEW_SELECTION', where_clause)\n",
    "\n",
    "# Write the selected features to a new feature class\n",
    "arcpy.management.CopyFeatures('Polyline_Layer1', 'TRACT')"
   ]
  },
  {
   "cell_type": "code",
   "execution_count": 5,
   "metadata": {},
   "outputs": [
    {
     "data": {
      "text/html": [
       "<div class='gpresult'><h2>Messages</h2><div id='messages' data-messages='[\"Start Time: Thursday, February 29, 2024 3:51:13 PM\",\"Succeeded at Thursday, February 29, 2024 3:51:31 PM (Elapsed Time: 18.33 seconds)\"]' data-show='true'><div id = 'default' /></div></div>"
      ],
      "text/plain": [
       "<Result 'C:\\\\Users\\\\hdean\\\\Desktop\\\\DWG_Python_Project\\\\TEST.gdb\\\\analysisresults\\\\BDY_NPS'>"
      ]
     },
     "execution_count": 5,
     "metadata": {},
     "output_type": "execute_result"
    }
   ],
   "source": [
    "#TASK: Create BDY-NPS Polyline Layer by selecting from PolylineLayer\n",
    "\n",
    "arcpy.env.overwriteOutput = False\n",
    "where_clause = \"{} = '{}'\".format(arcpy.AddFieldDelimiters(\"Polyline\", \"Layer\"), \"BDY-NPS\")\n",
    "\n",
    "\n",
    "# Select out BDY-NPS features from Polyline\n",
    "arcpy.management.SelectLayerByAttribute('Polyline', 'NEW_SELECTION', where_clause)\n",
    "\n",
    "# Write the selected features to a new feature class\n",
    "arcpy.management.CopyFeatures('Polyline_Layer2', 'BDY_NPS')"
   ]
  },
  {
   "cell_type": "code",
   "execution_count": 10,
   "metadata": {},
   "outputs": [
    {
     "data": {
      "text/html": [
       "<div class='gpresult'><h2>Messages</h2><div id='messages' data-messages='[\"Start Time: Thursday, February 29, 2024 3:54:35 PM\",\"Reading Features...\",\"Cracking Features...\",\"Assembling Features...\",\"Succeeded at Thursday, February 29, 2024 3:54:55 PM (Elapsed Time: 20.08 seconds)\"]' data-show='true'><div id = 'default' /></div></div>"
      ],
      "text/plain": [
       "<Result 'C:\\\\Users\\\\hdean\\\\Desktop\\\\DWG_Python_Project\\\\MyProject\\\\MyProject.gdb\\\\TRACT_Polygon'>"
      ]
     },
     "execution_count": 10,
     "metadata": {},
     "output_type": "execute_result"
    }
   ],
   "source": [
    "#TASK: Create Polygons from the Tract and BDY NPS polyline layers\n",
    "# Process: Feature To Polygon (Feature To Polygon) (management)\n",
    "\n",
    "#set parameters\n",
    "in_features = [\"TRACT\", \"BDY_NPS\"]\n",
    "out_features = \"TRACT_Polygon\"\n",
    "\n",
    "# Run Feature to Polygon Tool\n",
    "arcpy.management.FeatureToPolygon(in_features, out_features)"
   ]
  },
  {
   "cell_type": "code",
   "execution_count": 6,
   "metadata": {},
   "outputs": [
    {
     "name": "stdout",
     "output_type": "stream",
     "text": [
      "['COGO', 'METRO', 'TEXT-AREA', 'TXT-AREA', 'TXT-LINK', 'TXT-LR', 'TXT-MAP', 'TXT-MISC', 'TXT-RES', 'TXT-RESNPS']\n"
     ]
    }
   ],
   "source": [
    "# TASK - PRINT OUT THE VALUES THAT YOUR CAD HAS IN THE ANNOTATION \"Layer\" FIELD SO THAT WE CAN DETERMINE\n",
    "    # WHERE TO LOCATE THE TRACT NUMBERS\n",
    "    \n",
    "# Set the workspace\n",
    "arcpy.env.workspace = 'analysisresults'\n",
    "\n",
    "#THIS DEFINES A FUNCTION THAT WILL IDENTIFY UNIQUE VALUES FROM A TABLE\n",
    "def unique_values(table , field):\n",
    "    with arcpy.da.SearchCursor(table, [field]) as cursor:\n",
    "        return sorted({row[0] for row in cursor})\n",
    "\n",
    "#THIS CODE RUNS THE FUNCTION ON THE ANNOTATION TABLE, \"layer\" Field\n",
    "myValues = unique_values(\"TextPoint\", 'Layer')\n",
    "\n",
    "print (myValues)"
   ]
  },
  {
   "cell_type": "code",
   "execution_count": 7,
   "metadata": {},
   "outputs": [],
   "source": [
    "#TASK - REQUIRING USER INPUT IF Layer Field not standardized\n",
    "#THIS CELL WILL SELECT FROM ANNOTATION THE VALUES THAT HAVE THE TRACT NUMBER\n",
    "\n",
    "# FROM LIST GENERATED IN CELL ABOVE, CHOOSE THE LAYER VALUE THAT CORRESPONDS TO THE ANNOTATION\n",
    "    #WITH YOUR TRACT NUMBER\n",
    "select_value = \"TXT-LINK\"\n"
   ]
  },
  {
   "cell_type": "code",
   "execution_count": 8,
   "metadata": {},
   "outputs": [
    {
     "data": {
      "text/html": [
       "<div class='gpresult'><h2>Messages</h2><div id='messages' data-messages='[\"Start Time: Thursday, February 29, 2024 3:53:54 PM\",\"Succeeded at Thursday, February 29, 2024 3:53:55 PM (Elapsed Time: 0.52 seconds)\"]' data-show='true'><div id = 'default' /></div></div>"
      ],
      "text/plain": [
       "<Result 'TextPoint_Layer1'>"
      ]
     },
     "execution_count": 8,
     "metadata": {},
     "output_type": "execute_result"
    }
   ],
   "source": [
    "# THIS CELL SELECTS FROM TextPoint Layer\n",
    "\n",
    "# Seet query\n",
    "where_clause = \"{} = '{}'\".format(arcpy.AddFieldDelimiters(\"TextPoint\", \"Layer\"), select_value)\n",
    "\n",
    "# Select out TextPoint features that will have the Tract number\n",
    "arcpy.management.SelectLayerByAttribute('TextPoint', 'NEW_SELECTION', where_clause)"
   ]
  },
  {
   "cell_type": "code",
   "execution_count": 11,
   "metadata": {},
   "outputs": [
    {
     "data": {
      "text/html": [
       "<div class='gpresult'><h2>Messages</h2><div id='messages' data-messages='[\"Start Time: Thursday, February 29, 2024 3:55:01 PM\",\"Succeeded at Thursday, February 29, 2024 3:55:21 PM (Elapsed Time: 20.42 seconds)\"]' data-show='true'><div id = 'default' /></div></div>"
      ],
      "text/plain": [
       "<Result 'C:\\\\Users\\\\hdean\\\\Desktop\\\\DWG_Python_Project\\\\MyProject\\\\MyProject.gdb\\\\TRACT_join'>"
      ]
     },
     "execution_count": 11,
     "metadata": {},
     "output_type": "execute_result"
    }
   ],
   "source": [
    "#TASK: cell to spatially join the polygons to the TxtMemo Field in Annotation in order to pick up\n",
    "    #fields from annotation - including Tract Number\n",
    "\n",
    "# Set local variables\n",
    "target_features = 'TRACT_Polygon'\n",
    "join_features = \"TextPoint_Layer1\"\n",
    "out_feature_class = \"TRACT_join\"\n",
    "\n",
    "#Join to Annotation layer\n",
    "arcpy.analysis.SpatialJoin(target_features, join_features, out_feature_class)"
   ]
  },
  {
   "cell_type": "code",
   "execution_count": 12,
   "metadata": {},
   "outputs": [
    {
     "name": "stdout",
     "output_type": "stream",
     "text": [
      "Field 'Join_Count' removed successfully.\n",
      "Field 'TARGET_FID' removed successfully.\n",
      "Field 'Entity' removed successfully.\n",
      "Field 'Handle' removed successfully.\n",
      "Field 'LyrFrzn' removed successfully.\n",
      "Field 'LyrLock' removed successfully.\n",
      "Field 'LyrOn' removed successfully.\n",
      "Field 'LyrVPFrzn' removed successfully.\n",
      "Field 'LyrHandle' removed successfully.\n",
      "Field 'Color' removed successfully.\n",
      "Field 'EntColor' removed successfully.\n",
      "Field 'LyrColor' removed successfully.\n",
      "Field 'BlkColor' removed successfully.\n",
      "Field 'Linetype' removed successfully.\n",
      "Field 'EntLinetype' removed successfully.\n",
      "Field 'LyrLnType' removed successfully.\n",
      "Field 'BlkLinetype' removed successfully.\n",
      "Field 'LTScale' removed successfully.\n",
      "Field 'Elevation' removed successfully.\n",
      "Field 'Thickness' removed successfully.\n",
      "Field 'LineWt' removed successfully.\n",
      "Field 'EntLineWt' removed successfully.\n",
      "Field 'LyrLineWt' removed successfully.\n",
      "Field 'BlkLineWt' removed successfully.\n",
      "Field 'ExtX' removed successfully.\n",
      "Field 'ExtY' removed successfully.\n",
      "Field 'ExtZ' removed successfully.\n",
      "Field 'DocId' removed successfully.\n",
      "Field 'ScaleX' removed successfully.\n",
      "Field 'ScaleY' removed successfully.\n",
      "Field 'ScaleZ' removed successfully.\n",
      "Field 'Owner' removed successfully.\n",
      "Field 'Style' removed successfully.\n",
      "Field 'FontID' removed successfully.\n",
      "Field 'Height' removed successfully.\n",
      "Field 'Angle' removed successfully.\n",
      "Field 'TxtWidth' removed successfully.\n",
      "Field 'TxtOblique' removed successfully.\n",
      "Field 'TxtGenType' removed successfully.\n",
      "Field 'HorizontalAlignment' removed successfully.\n",
      "Field 'VerticalAlignment' removed successfully.\n",
      "Field 'FontName' removed successfully.\n",
      "Field 'TxtBoxHt' removed successfully.\n",
      "Field 'TxtBoxWd' removed successfully.\n",
      "Field 'TxtRefWd' removed successfully.\n",
      "Field 'TxtAttach' removed successfully.\n",
      "Field 'TxtDir' removed successfully.\n",
      "Field 'LnSpace' removed successfully.\n",
      "Field 'SpaceFct' removed successfully.\n",
      "Field 'TxtMemo' removed successfully.\n",
      "Field 'FeatureID' removed successfully.\n",
      "Field 'ZOrder' removed successfully.\n",
      "Field 'AnnotationClassID' removed successfully.\n",
      "Field 'Element' removed successfully.\n",
      "Field 'SymbolID' removed successfully.\n",
      "Field 'Status' removed successfully.\n",
      "Field 'TRACT_NUMBER' removed successfully.\n"
     ]
    }
   ],
   "source": [
    "#TASK: clean up TRACT polygon by removing extra fields\n",
    "\n",
    "#Point to your Tract layer\n",
    "feature_class = \"TRACT_join\"\n",
    "\n",
    "#List of fields to keep\n",
    "fields_to_keep = [\"OBJECTID\",\"Shape\",\"Shape_Length\",\"Shape_Area\",\"TextMemo\", \"RefName\",\"Text\", \"Layer\",\"DocName\",\"DocPath\",\"DocType\",\"DocVer\",\"DocUpdate\"]  \n",
    "\n",
    "try:\n",
    "    # Get a list of all fields in the layer\n",
    "    all_fields = [field.name for field in arcpy.ListFields(feature_class)]\n",
    "\n",
    "    # Identify the fields to delete\n",
    "    fields_to_delete = [field for field in all_fields if field not in fields_to_keep]\n",
    "\n",
    "    # Delete the fields that are not in the list of fields to keep\n",
    "    for field in fields_to_delete:\n",
    "        arcpy.DeleteField_management(feature_class, field)\n",
    "        print(\"Field '{}' removed successfully.\".format(field))\n",
    "\n",
    "except arcpy.ExecuteError:\n",
    "    print(arcpy.GetMessages())\n",
    "except Exception as e:\n",
    "    print(e)"
   ]
  },
  {
   "cell_type": "code",
   "execution_count": 14,
   "metadata": {},
   "outputs": [
    {
     "data": {
      "text/html": [
       "<div class='gpresult'><h2>Messages</h2><div id='messages' data-messages='[\"Start Time: Thursday, February 29, 2024 4:24:43 PM\",\"Adding TRACT_ID to TRACT_join...\",\"Succeeded at Thursday, February 29, 2024 4:24:59 PM (Elapsed Time: 16.50 seconds)\"]' data-show='true'><div id = 'default' /></div></div>"
      ],
      "text/plain": [
       "<Result 'TRACT_join'>"
      ]
     },
     "execution_count": 14,
     "metadata": {},
     "output_type": "execute_result"
    }
   ],
   "source": [
    "# CELL THAT ADDS FIELD \"TRACT_ID\" to POLYGON LAYER\n",
    "\n",
    "#Set your variables\n",
    "feature_class = \"TRACT_join\"\n",
    "tractfield = \"TRACT_ID\"\n",
    "field_type = \"TEXT\"\n",
    "\n",
    "#Code to run add field tool\n",
    "arcpy.management.AddField(feature_class, tractfield, field_type) "
   ]
  },
  {
   "cell_type": "code",
   "execution_count": 17,
   "metadata": {},
   "outputs": [
    {
     "data": {
      "text/html": [
       "<div class='gpresult'><h2>Messages</h2><div id='messages' data-messages='[\"Start Time: Thursday, February 29, 2024 4:31:19 PM\",\"Succeeded at Thursday, February 29, 2024 4:31:36 PM (Elapsed Time: 16.72 seconds)\"]' data-show='true'><div id = 'default' /></div></div>"
      ],
      "text/plain": [
       "<Result 'TRACT_join'>"
      ]
     },
     "execution_count": 17,
     "metadata": {},
     "output_type": "execute_result"
    }
   ],
   "source": [
    "# CALCULATES TO POPULATE NEW FIELD WITH TRACT ID FROM RefName field\n",
    "\n",
    "#Set your variables for Calculate tool\n",
    "expression = \"!RefName![4:]\"\n",
    "expression_type = \"PYTHON3\"\n",
    "\n",
    "#Code calculating the new field\n",
    "arcpy.management.CalculateField(feature_class, tractfield, expression, expression_type)"
   ]
  },
  {
   "cell_type": "code",
   "execution_count": null,
   "metadata": {},
   "outputs": [],
   "source": []
  }
 ],
 "metadata": {
  "kernelspec": {
   "display_name": "ArcGISPro",
   "language": "Python",
   "name": "python3"
  },
  "language_info": {
   "file_extension": ".py",
   "name": "python",
   "version": "3"
  }
 },
 "nbformat": 4,
 "nbformat_minor": 2
}
